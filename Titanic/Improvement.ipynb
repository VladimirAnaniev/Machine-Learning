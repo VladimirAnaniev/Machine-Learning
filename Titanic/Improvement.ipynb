{
 "cells": [
  {
   "cell_type": "code",
   "execution_count": 2,
   "metadata": {},
   "outputs": [],
   "source": [
    "import numpy as np\n",
    "import matplotlib.pyplot as plt\n",
    "import pandas as pd\n",
    "import seaborn as sns\n",
    "import mglearn\n",
    "\n",
    "from IPython.display import display\n",
    "\n",
    "%matplotlib inline"
   ]
  },
  {
   "cell_type": "markdown",
   "metadata": {},
   "source": [
    "# Копирам си модела от лекцията"
   ]
  },
  {
   "cell_type": "code",
   "execution_count": 18,
   "metadata": {},
   "outputs": [],
   "source": [
    "from sklearn.base import BaseEstimator, TransformerMixin\n",
    "from sklearn.preprocessing import LabelBinarizer\n",
    "\n",
    "class ItemSelector(BaseEstimator, TransformerMixin):\n",
    "    def __init__(self, key):\n",
    "        self.key = key\n",
    "\n",
    "    def fit(self, x, y=None):\n",
    "        return self\n",
    "\n",
    "    def transform(self, data_dict):\n",
    "        return data_dict[[self.key]]\n",
    "    \n",
    "class LabelBinarizerPipelineFriendly(LabelBinarizer):\n",
    "    def fit(self, X, y=None):\n",
    "        super().fit(X)\n",
    "\n",
    "    def transform(self, X, y=None):\n",
    "        return super().transform(X)\n",
    "\n",
    "    def fit_transform(self, X, y=None):\n",
    "        return super().fit(X).transform(X)\n",
    "    \n",
    "class StringImputer(TransformerMixin):\n",
    "    def fit(self, X, *_):\n",
    "        self.modes = X.mode().iloc[0]\n",
    "        return self\n",
    "        \n",
    "    def transform(self, X, y=None):\n",
    "        return X.fillna(self.modes)"
   ]
  },
  {
   "cell_type": "code",
   "execution_count": 19,
   "metadata": {},
   "outputs": [],
   "source": [
    "train = pd.read_csv('data/train.csv')\n",
    "test = pd.read_csv('data/test.csv')"
   ]
  },
  {
   "cell_type": "code",
   "execution_count": 37,
   "metadata": {},
   "outputs": [
    {
     "name": "stdout",
     "output_type": "stream",
     "text": [
      "[ 0.81144781  0.83164983  0.82491582]\n",
      "0.822671156004\n"
     ]
    }
   ],
   "source": [
    "from sklearn.pipeline import Pipeline, FeatureUnion\n",
    "from sklearn.preprocessing import Imputer, StandardScaler\n",
    "from sklearn.svm import SVC\n",
    "from sklearn.model_selection import cross_val_score\n",
    "\n",
    "model = Pipeline([\n",
    "    ('union', FeatureUnion([\n",
    "        ('age', Pipeline([\n",
    "            ('select', ItemSelector('Age')),\n",
    "            ('imputer', Imputer(strategy='mean')),\n",
    "            ('scaler', StandardScaler()),\n",
    "        ])),\n",
    "        ('gender', Pipeline([\n",
    "            ('select', ItemSelector('Sex')),\n",
    "            ('imputer', StringImputer()),\n",
    "            ('encoder', LabelBinarizerPipelineFriendly()),\n",
    "        ])),\n",
    "        ('embarked', Pipeline([\n",
    "            ('select', ItemSelector('Embarked')),\n",
    "            ('imputer', StringImputer()),\n",
    "            ('encoder', LabelBinarizerPipelineFriendly()),\n",
    "        ])),\n",
    "        ('sibsp', Pipeline([\n",
    "            ('select', ItemSelector('SibSp')),\n",
    "            ('scaler', StandardScaler()),\n",
    "        ])),\n",
    "        ('parch', Pipeline([\n",
    "            ('select', ItemSelector('Parch')),\n",
    "            ('scaler', StandardScaler()),\n",
    "        ])),\n",
    "    ])),\n",
    "    ('classifier', SVC())\n",
    "])\n",
    "\n",
    "scores = cross_val_score(model, train, train['Survived'])\n",
    "print(scores)\n",
    "print(scores.mean())"
   ]
  },
  {
   "cell_type": "markdown",
   "metadata": {},
   "source": [
    "# Сега ще се опитам да го подобря..\n",
    "## Ще пусна Grid Search върху 3 алгоритъма (SVC, LogisticRegression, RandomForest)"
   ]
  },
  {
   "cell_type": "markdown",
   "metadata": {},
   "source": [
    "Използвам същата трансформация на данните"
   ]
  },
  {
   "cell_type": "code",
   "execution_count": 39,
   "metadata": {},
   "outputs": [],
   "source": [
    "feature_union = FeatureUnion([\n",
    "    ('age', Pipeline([\n",
    "        ('select', ItemSelector('Age')),\n",
    "        ('imputer', Imputer(strategy='mean')),\n",
    "        ('scaler', StandardScaler()),\n",
    "    ])),\n",
    "    ('gender', Pipeline([\n",
    "        ('select', ItemSelector('Sex')),\n",
    "        ('imputer', StringImputer()),\n",
    "        ('encoder', LabelBinarizerPipelineFriendly()),\n",
    "    ])),\n",
    "    ('embarked', Pipeline([\n",
    "        ('select', ItemSelector('Embarked')),\n",
    "        ('imputer', StringImputer()),\n",
    "        ('encoder', LabelBinarizerPipelineFriendly()),\n",
    "    ])),\n",
    "    ('sibsp', Pipeline([\n",
    "        ('select', ItemSelector('SibSp')),\n",
    "        ('scaler', StandardScaler()),\n",
    "    ])),\n",
    "    ('parch', Pipeline([\n",
    "        ('select', ItemSelector('Parch')),\n",
    "        ('scaler', StandardScaler()),\n",
    "    ])),\n",
    "])"
   ]
  },
  {
   "cell_type": "markdown",
   "metadata": {},
   "source": [
    "Разделям на трей и тест и ги трансформирам"
   ]
  },
  {
   "cell_type": "code",
   "execution_count": 43,
   "metadata": {},
   "outputs": [],
   "source": [
    "from sklearn.model_selection import train_test_split\n",
    "\n",
    "\n",
    "X_train, X_test, y_train, y_test = train_test_split(train, train[\"Survived\"], random_state=0)\n",
    "\n",
    "transformer = feature_union.fit(X_train)\n",
    "X_train_transformed = transformer.transform(X_train)\n",
    "X_test_transformed = transformer.transform(X_test)"
   ]
  },
  {
   "cell_type": "markdown",
   "metadata": {},
   "source": [
    "Пускам Грид Сърч над 3те алгоритъма.. Нека най-добрият победи."
   ]
  },
  {
   "cell_type": "code",
   "execution_count": 47,
   "metadata": {},
   "outputs": [],
   "source": [
    "from sklearn.ensemble import RandomForestClassifier\n",
    "from sklearn.linear_model import LogisticRegression\n",
    "\n",
    "pipeline = Pipeline([\n",
    "    ('classifier', SVC())\n",
    "])\n",
    "\n",
    "grid = [\n",
    "    {\n",
    "        'classifier': [SVC()],\n",
    "        'classifier__gamma': [0.001, 0.01, 0.1, 1, 10, 100],\n",
    "        'classifier__C': [0.001, 0.01, 0.1, 1, 10, 100]\n",
    "    },\n",
    "    {\n",
    "        'classifier': [RandomForestClassifier()],\n",
    "        'classifier__max_features': [1, 2, 3, 5],\n",
    "        'classifier__n_estimators': [10, 50, 100, 200]\n",
    "    },\n",
    "    {\n",
    "        'classifier': [LogisticRegression()],\n",
    "        'classifier__C': [0.001, 0.01, 0.1, 1, 10, 100]\n",
    "    }\n",
    "]"
   ]
  },
  {
   "cell_type": "code",
   "execution_count": 48,
   "metadata": {},
   "outputs": [
    {
     "name": "stdout",
     "output_type": "stream",
     "text": [
      "Best params:\n",
      "{'classifier': SVC(C=1, cache_size=200, class_weight=None, coef0=0.0,\n",
      "  decision_function_shape=None, degree=3, gamma=1, kernel='rbf',\n",
      "  max_iter=-1, probability=False, random_state=None, shrinking=True,\n",
      "  tol=0.001, verbose=False), 'classifier__C': 1, 'classifier__gamma': 1}\n",
      "\n",
      "Best cross-validation score: 0.82\n"
     ]
    }
   ],
   "source": [
    "from sklearn.model_selection import GridSearchCV\n",
    "\n",
    "search = GridSearchCV(pipeline, grid, cv=5)\n",
    "search.fit(X_train_transformed, y_train)\n",
    "\n",
    "print(\"Best params:\\n{}\\n\".format(search.best_params_))\n",
    "print(\"Best cross-validation score: {:.2f}\".format(search.best_score_))"
   ]
  },
  {
   "cell_type": "markdown",
   "metadata": {},
   "source": [
    "# Изглежда, че модела от лекцията е най-добрия от всички"
   ]
  },
  {
   "cell_type": "code",
   "execution_count": null,
   "metadata": {},
   "outputs": [],
   "source": []
  }
 ],
 "metadata": {
  "kernelspec": {
   "display_name": "Python 3",
   "language": "python",
   "name": "python3"
  },
  "language_info": {
   "codemirror_mode": {
    "name": "ipython",
    "version": 3
   },
   "file_extension": ".py",
   "mimetype": "text/x-python",
   "name": "python",
   "nbconvert_exporter": "python",
   "pygments_lexer": "ipython3",
   "version": "3.6.2"
  }
 },
 "nbformat": 4,
 "nbformat_minor": 2
}
