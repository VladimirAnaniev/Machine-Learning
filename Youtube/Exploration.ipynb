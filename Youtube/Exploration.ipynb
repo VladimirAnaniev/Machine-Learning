{
 "cells": [
  {
   "cell_type": "code",
   "execution_count": 1,
   "metadata": {},
   "outputs": [],
   "source": [
    "import numpy as np\n",
    "import pandas as pd\n",
    "import matplotlib.pyplot as plt\n",
    "import mglearn\n",
    "import warnings\n",
    "\n",
    "warnings.filterwarnings(action='ignore', module='scipy', message='^internal gelsd')\n",
    "pd.options.display.max_rows = 15\n",
    "\n",
    "%matplotlib inline"
   ]
  },
  {
   "cell_type": "markdown",
   "metadata": {},
   "source": [
    "Зареждам данните (някои записи не са валидни, затова слагам error_bad_lines на false, което ще ги пропусне)."
   ]
  },
  {
   "cell_type": "code",
   "execution_count": 2,
   "metadata": {
    "scrolled": true
   },
   "outputs": [
    {
     "name": "stderr",
     "output_type": "stream",
     "text": [
      "b'Skipping line 2401: expected 11 fields, saw 21\\nSkipping line 2800: expected 11 fields, saw 21\\nSkipping line 5297: expected 11 fields, saw 12\\nSkipping line 5299: expected 11 fields, saw 12\\nSkipping line 5300: expected 11 fields, saw 12\\nSkipping line 5301: expected 11 fields, saw 12\\n'\n"
     ]
    },
    {
     "data": {
      "text/html": [
       "<div>\n",
       "<style>\n",
       "    .dataframe thead tr:only-child th {\n",
       "        text-align: right;\n",
       "    }\n",
       "\n",
       "    .dataframe thead th {\n",
       "        text-align: left;\n",
       "    }\n",
       "\n",
       "    .dataframe tbody tr th {\n",
       "        vertical-align: top;\n",
       "    }\n",
       "</style>\n",
       "<table border=\"1\" class=\"dataframe\">\n",
       "  <thead>\n",
       "    <tr style=\"text-align: right;\">\n",
       "      <th></th>\n",
       "      <th>video_id</th>\n",
       "      <th>title</th>\n",
       "      <th>channel_title</th>\n",
       "      <th>category_id</th>\n",
       "      <th>tags</th>\n",
       "      <th>views</th>\n",
       "      <th>likes</th>\n",
       "      <th>dislikes</th>\n",
       "      <th>comment_total</th>\n",
       "      <th>thumbnail_link</th>\n",
       "      <th>date</th>\n",
       "    </tr>\n",
       "  </thead>\n",
       "  <tbody>\n",
       "    <tr>\n",
       "      <th>0</th>\n",
       "      <td>XpVt6Z1Gjjo</td>\n",
       "      <td>1 YEAR OF VLOGGING -- HOW LOGAN PAUL CHANGED Y...</td>\n",
       "      <td>Logan Paul Vlogs</td>\n",
       "      <td>24</td>\n",
       "      <td>logan paul vlog|logan paul|logan|paul|olympics...</td>\n",
       "      <td>4394029</td>\n",
       "      <td>320053</td>\n",
       "      <td>5931</td>\n",
       "      <td>46245</td>\n",
       "      <td>https://i.ytimg.com/vi/XpVt6Z1Gjjo/default.jpg</td>\n",
       "      <td>13.09</td>\n",
       "    </tr>\n",
       "    <tr>\n",
       "      <th>1</th>\n",
       "      <td>K4wEI5zhHB0</td>\n",
       "      <td>iPhone X — Introducing iPhone X — Apple</td>\n",
       "      <td>Apple</td>\n",
       "      <td>28</td>\n",
       "      <td>Apple|iPhone 10|iPhone Ten|iPhone|Portrait Lig...</td>\n",
       "      <td>7860119</td>\n",
       "      <td>185853</td>\n",
       "      <td>26679</td>\n",
       "      <td>0</td>\n",
       "      <td>https://i.ytimg.com/vi/K4wEI5zhHB0/default.jpg</td>\n",
       "      <td>13.09</td>\n",
       "    </tr>\n",
       "    <tr>\n",
       "      <th>2</th>\n",
       "      <td>cLdxuaxaQwc</td>\n",
       "      <td>My Response</td>\n",
       "      <td>PewDiePie</td>\n",
       "      <td>22</td>\n",
       "      <td>[none]</td>\n",
       "      <td>5845909</td>\n",
       "      <td>576597</td>\n",
       "      <td>39774</td>\n",
       "      <td>170708</td>\n",
       "      <td>https://i.ytimg.com/vi/cLdxuaxaQwc/default.jpg</td>\n",
       "      <td>13.09</td>\n",
       "    </tr>\n",
       "    <tr>\n",
       "      <th>3</th>\n",
       "      <td>WYYvHb03Eog</td>\n",
       "      <td>Apple iPhone X first look</td>\n",
       "      <td>The Verge</td>\n",
       "      <td>28</td>\n",
       "      <td>apple iphone x hands on|Apple iPhone X|iPhone ...</td>\n",
       "      <td>2642103</td>\n",
       "      <td>24975</td>\n",
       "      <td>4542</td>\n",
       "      <td>12829</td>\n",
       "      <td>https://i.ytimg.com/vi/WYYvHb03Eog/default.jpg</td>\n",
       "      <td>13.09</td>\n",
       "    </tr>\n",
       "    <tr>\n",
       "      <th>4</th>\n",
       "      <td>sjlHnJvXdQs</td>\n",
       "      <td>iPhone X (parody)</td>\n",
       "      <td>jacksfilms</td>\n",
       "      <td>23</td>\n",
       "      <td>jacksfilms|parody|parodies|iphone|iphone x|iph...</td>\n",
       "      <td>1168130</td>\n",
       "      <td>96666</td>\n",
       "      <td>568</td>\n",
       "      <td>6666</td>\n",
       "      <td>https://i.ytimg.com/vi/sjlHnJvXdQs/default.jpg</td>\n",
       "      <td>13.09</td>\n",
       "    </tr>\n",
       "    <tr>\n",
       "      <th>5</th>\n",
       "      <td>cMKX2tE5Luk</td>\n",
       "      <td>The Disaster Artist | Official Trailer HD | A24</td>\n",
       "      <td>A24</td>\n",
       "      <td>1</td>\n",
       "      <td>a24|a24 films|a24 trailers|independent films|t...</td>\n",
       "      <td>1311445</td>\n",
       "      <td>34507</td>\n",
       "      <td>544</td>\n",
       "      <td>3040</td>\n",
       "      <td>https://i.ytimg.com/vi/cMKX2tE5Luk/default.jpg</td>\n",
       "      <td>13.09</td>\n",
       "    </tr>\n",
       "    <tr>\n",
       "      <th>6</th>\n",
       "      <td>8wNr-NQImFg</td>\n",
       "      <td>The Check In: HUD, Ben Carson and Hurricanes</td>\n",
       "      <td>Late Night with Seth Meyers</td>\n",
       "      <td>23</td>\n",
       "      <td>Late night|Seth Meyers|check in|hud|Ben Carson...</td>\n",
       "      <td>666169</td>\n",
       "      <td>9985</td>\n",
       "      <td>297</td>\n",
       "      <td>1071</td>\n",
       "      <td>https://i.ytimg.com/vi/8wNr-NQImFg/default.jpg</td>\n",
       "      <td>13.09</td>\n",
       "    </tr>\n",
       "    <tr>\n",
       "      <th>...</th>\n",
       "      <td>...</td>\n",
       "      <td>...</td>\n",
       "      <td>...</td>\n",
       "      <td>...</td>\n",
       "      <td>...</td>\n",
       "      <td>...</td>\n",
       "      <td>...</td>\n",
       "      <td>...</td>\n",
       "      <td>...</td>\n",
       "      <td>...</td>\n",
       "      <td>...</td>\n",
       "    </tr>\n",
       "    <tr>\n",
       "      <th>7985</th>\n",
       "      <td>CN4YL1KPDAA</td>\n",
       "      <td>Pixel 2 Classic Unboxing</td>\n",
       "      <td>Linus Tech Tips</td>\n",
       "      <td>28</td>\n",
       "      <td>[none]</td>\n",
       "      <td>484376</td>\n",
       "      <td>18242</td>\n",
       "      <td>797</td>\n",
       "      <td>1540</td>\n",
       "      <td>https://i.ytimg.com/vi/CN4YL1KPDAA/default.jpg</td>\n",
       "      <td>22.10</td>\n",
       "    </tr>\n",
       "    <tr>\n",
       "      <th>7986</th>\n",
       "      <td>4kmSATD25iY</td>\n",
       "      <td>Pumpkin Spice Oreo Taste Test!</td>\n",
       "      <td>iJustine</td>\n",
       "      <td>22</td>\n",
       "      <td>ijustine|pumpkin spice oreo|taste test|itsmeje...</td>\n",
       "      <td>164625</td>\n",
       "      <td>6688</td>\n",
       "      <td>383</td>\n",
       "      <td>1610</td>\n",
       "      <td>https://i.ytimg.com/vi/4kmSATD25iY/default.jpg</td>\n",
       "      <td>22.10</td>\n",
       "    </tr>\n",
       "    <tr>\n",
       "      <th>7987</th>\n",
       "      <td>xlu6i6lT_vk</td>\n",
       "      <td>How Do MASSIVE Sinkholes Form?</td>\n",
       "      <td>Life Noggin</td>\n",
       "      <td>27</td>\n",
       "      <td>sinkhole|how do sinkholes form|sinkhole in wat...</td>\n",
       "      <td>440393</td>\n",
       "      <td>14362</td>\n",
       "      <td>390</td>\n",
       "      <td>1575</td>\n",
       "      <td>https://i.ytimg.com/vi/xlu6i6lT_vk/default.jpg</td>\n",
       "      <td>22.10</td>\n",
       "    </tr>\n",
       "    <tr>\n",
       "      <th>7988</th>\n",
       "      <td>qRoVlH1OcI4</td>\n",
       "      <td>Trump slams Clinton for defending NFL anthem p...</td>\n",
       "      <td>Business Insider</td>\n",
       "      <td>25</td>\n",
       "      <td>Business Insider|Donald Trump|Hillary Clinton|...</td>\n",
       "      <td>55762</td>\n",
       "      <td>1265</td>\n",
       "      <td>760</td>\n",
       "      <td>1873</td>\n",
       "      <td>https://i.ytimg.com/vi/qRoVlH1OcI4/default.jpg</td>\n",
       "      <td>22.10</td>\n",
       "    </tr>\n",
       "    <tr>\n",
       "      <th>7989</th>\n",
       "      <td>EoejGgUNmVU</td>\n",
       "      <td>LP - Lost On You (A Night at The McKittrick Ho...</td>\n",
       "      <td>LP</td>\n",
       "      <td>10</td>\n",
       "      <td>LP|Death Valley|Other People|Lost On You|The M...</td>\n",
       "      <td>142908</td>\n",
       "      <td>7088</td>\n",
       "      <td>68</td>\n",
       "      <td>437</td>\n",
       "      <td>https://i.ytimg.com/vi/EoejGgUNmVU/default.jpg</td>\n",
       "      <td>22.10</td>\n",
       "    </tr>\n",
       "    <tr>\n",
       "      <th>7990</th>\n",
       "      <td>MT1CMTI0EVw</td>\n",
       "      <td>Tré Melvin @ #YouTubeBlack FanFest Washington ...</td>\n",
       "      <td>YouTube FanFest</td>\n",
       "      <td>24</td>\n",
       "      <td>YouTube FanFest|#YTFF|Washington DC|USA|YTFF|#...</td>\n",
       "      <td>24532</td>\n",
       "      <td>2148</td>\n",
       "      <td>77</td>\n",
       "      <td>0</td>\n",
       "      <td>https://i.ytimg.com/vi/MT1CMTI0EVw/default.jpg</td>\n",
       "      <td>22.10</td>\n",
       "    </tr>\n",
       "    <tr>\n",
       "      <th>7991</th>\n",
       "      <td>AFxLA3RGjnc</td>\n",
       "      <td>First cosmic event seen in gravitational waves...</td>\n",
       "      <td>National Science Foundation</td>\n",
       "      <td>28</td>\n",
       "      <td>LIGO|Virgo|collaboration|space|science|nationa...</td>\n",
       "      <td>144039</td>\n",
       "      <td>1574</td>\n",
       "      <td>59</td>\n",
       "      <td>0</td>\n",
       "      <td>https://i.ytimg.com/vi/AFxLA3RGjnc/default.jpg</td>\n",
       "      <td>22.10</td>\n",
       "    </tr>\n",
       "  </tbody>\n",
       "</table>\n",
       "<p>7992 rows × 11 columns</p>\n",
       "</div>"
      ],
      "text/plain": [
       "         video_id                                              title  \\\n",
       "0     XpVt6Z1Gjjo  1 YEAR OF VLOGGING -- HOW LOGAN PAUL CHANGED Y...   \n",
       "1     K4wEI5zhHB0            iPhone X — Introducing iPhone X — Apple   \n",
       "2     cLdxuaxaQwc                                        My Response   \n",
       "3     WYYvHb03Eog                          Apple iPhone X first look   \n",
       "4     sjlHnJvXdQs                                  iPhone X (parody)   \n",
       "5     cMKX2tE5Luk    The Disaster Artist | Official Trailer HD | A24   \n",
       "6     8wNr-NQImFg       The Check In: HUD, Ben Carson and Hurricanes   \n",
       "...           ...                                                ...   \n",
       "7985  CN4YL1KPDAA                           Pixel 2 Classic Unboxing   \n",
       "7986  4kmSATD25iY                     Pumpkin Spice Oreo Taste Test!   \n",
       "7987  xlu6i6lT_vk                     How Do MASSIVE Sinkholes Form?   \n",
       "7988  qRoVlH1OcI4  Trump slams Clinton for defending NFL anthem p...   \n",
       "7989  EoejGgUNmVU  LP - Lost On You (A Night at The McKittrick Ho...   \n",
       "7990  MT1CMTI0EVw  Tré Melvin @ #YouTubeBlack FanFest Washington ...   \n",
       "7991  AFxLA3RGjnc  First cosmic event seen in gravitational waves...   \n",
       "\n",
       "                    channel_title  category_id  \\\n",
       "0                Logan Paul Vlogs           24   \n",
       "1                           Apple           28   \n",
       "2                       PewDiePie           22   \n",
       "3                       The Verge           28   \n",
       "4                      jacksfilms           23   \n",
       "5                             A24            1   \n",
       "6     Late Night with Seth Meyers           23   \n",
       "...                           ...          ...   \n",
       "7985              Linus Tech Tips           28   \n",
       "7986                     iJustine           22   \n",
       "7987                  Life Noggin           27   \n",
       "7988             Business Insider           25   \n",
       "7989                           LP           10   \n",
       "7990              YouTube FanFest           24   \n",
       "7991  National Science Foundation           28   \n",
       "\n",
       "                                                   tags    views   likes  \\\n",
       "0     logan paul vlog|logan paul|logan|paul|olympics...  4394029  320053   \n",
       "1     Apple|iPhone 10|iPhone Ten|iPhone|Portrait Lig...  7860119  185853   \n",
       "2                                                [none]  5845909  576597   \n",
       "3     apple iphone x hands on|Apple iPhone X|iPhone ...  2642103   24975   \n",
       "4     jacksfilms|parody|parodies|iphone|iphone x|iph...  1168130   96666   \n",
       "5     a24|a24 films|a24 trailers|independent films|t...  1311445   34507   \n",
       "6     Late night|Seth Meyers|check in|hud|Ben Carson...   666169    9985   \n",
       "...                                                 ...      ...     ...   \n",
       "7985                                             [none]   484376   18242   \n",
       "7986  ijustine|pumpkin spice oreo|taste test|itsmeje...   164625    6688   \n",
       "7987  sinkhole|how do sinkholes form|sinkhole in wat...   440393   14362   \n",
       "7988  Business Insider|Donald Trump|Hillary Clinton|...    55762    1265   \n",
       "7989  LP|Death Valley|Other People|Lost On You|The M...   142908    7088   \n",
       "7990  YouTube FanFest|#YTFF|Washington DC|USA|YTFF|#...    24532    2148   \n",
       "7991  LIGO|Virgo|collaboration|space|science|nationa...   144039    1574   \n",
       "\n",
       "      dislikes  comment_total                                  thumbnail_link  \\\n",
       "0         5931          46245  https://i.ytimg.com/vi/XpVt6Z1Gjjo/default.jpg   \n",
       "1        26679              0  https://i.ytimg.com/vi/K4wEI5zhHB0/default.jpg   \n",
       "2        39774         170708  https://i.ytimg.com/vi/cLdxuaxaQwc/default.jpg   \n",
       "3         4542          12829  https://i.ytimg.com/vi/WYYvHb03Eog/default.jpg   \n",
       "4          568           6666  https://i.ytimg.com/vi/sjlHnJvXdQs/default.jpg   \n",
       "5          544           3040  https://i.ytimg.com/vi/cMKX2tE5Luk/default.jpg   \n",
       "6          297           1071  https://i.ytimg.com/vi/8wNr-NQImFg/default.jpg   \n",
       "...        ...            ...                                             ...   \n",
       "7985       797           1540  https://i.ytimg.com/vi/CN4YL1KPDAA/default.jpg   \n",
       "7986       383           1610  https://i.ytimg.com/vi/4kmSATD25iY/default.jpg   \n",
       "7987       390           1575  https://i.ytimg.com/vi/xlu6i6lT_vk/default.jpg   \n",
       "7988       760           1873  https://i.ytimg.com/vi/qRoVlH1OcI4/default.jpg   \n",
       "7989        68            437  https://i.ytimg.com/vi/EoejGgUNmVU/default.jpg   \n",
       "7990        77              0  https://i.ytimg.com/vi/MT1CMTI0EVw/default.jpg   \n",
       "7991        59              0  https://i.ytimg.com/vi/AFxLA3RGjnc/default.jpg   \n",
       "\n",
       "       date  \n",
       "0     13.09  \n",
       "1     13.09  \n",
       "2     13.09  \n",
       "3     13.09  \n",
       "4     13.09  \n",
       "5     13.09  \n",
       "6     13.09  \n",
       "...     ...  \n",
       "7985  22.10  \n",
       "7986  22.10  \n",
       "7987  22.10  \n",
       "7988  22.10  \n",
       "7989  22.10  \n",
       "7990  22.10  \n",
       "7991  22.10  \n",
       "\n",
       "[7992 rows x 11 columns]"
      ]
     },
     "execution_count": 2,
     "metadata": {},
     "output_type": "execute_result"
    }
   ],
   "source": [
    "videos = pd.read_csv('data/USvideos.csv', error_bad_lines=False)\n",
    "videos"
   ]
  },
  {
   "cell_type": "markdown",
   "metadata": {},
   "source": [
    "Да видим с какви данни разполагаме"
   ]
  },
  {
   "cell_type": "code",
   "execution_count": 3,
   "metadata": {},
   "outputs": [
    {
     "data": {
      "text/html": [
       "<div>\n",
       "<style>\n",
       "    .dataframe thead tr:only-child th {\n",
       "        text-align: right;\n",
       "    }\n",
       "\n",
       "    .dataframe thead th {\n",
       "        text-align: left;\n",
       "    }\n",
       "\n",
       "    .dataframe tbody tr th {\n",
       "        vertical-align: top;\n",
       "    }\n",
       "</style>\n",
       "<table border=\"1\" class=\"dataframe\">\n",
       "  <thead>\n",
       "    <tr style=\"text-align: right;\">\n",
       "      <th></th>\n",
       "      <th>category_id</th>\n",
       "      <th>views</th>\n",
       "      <th>likes</th>\n",
       "      <th>dislikes</th>\n",
       "      <th>comment_total</th>\n",
       "      <th>date</th>\n",
       "    </tr>\n",
       "  </thead>\n",
       "  <tbody>\n",
       "    <tr>\n",
       "      <th>count</th>\n",
       "      <td>7992.000000</td>\n",
       "      <td>7.992000e+03</td>\n",
       "      <td>7.992000e+03</td>\n",
       "      <td>7992.000000</td>\n",
       "      <td>7992.000000</td>\n",
       "      <td>7992.000000</td>\n",
       "    </tr>\n",
       "    <tr>\n",
       "      <th>mean</th>\n",
       "      <td>20.217718</td>\n",
       "      <td>9.390269e+05</td>\n",
       "      <td>3.449193e+04</td>\n",
       "      <td>1781.625000</td>\n",
       "      <td>4608.489740</td>\n",
       "      <td>16.094249</td>\n",
       "    </tr>\n",
       "    <tr>\n",
       "      <th>std</th>\n",
       "      <td>7.415525</td>\n",
       "      <td>2.148263e+06</td>\n",
       "      <td>9.136160e+04</td>\n",
       "      <td>10822.103125</td>\n",
       "      <td>20252.758016</td>\n",
       "      <td>7.677674</td>\n",
       "    </tr>\n",
       "    <tr>\n",
       "      <th>min</th>\n",
       "      <td>1.000000</td>\n",
       "      <td>0.000000e+00</td>\n",
       "      <td>0.000000e+00</td>\n",
       "      <td>0.000000</td>\n",
       "      <td>0.000000</td>\n",
       "      <td>1.100000</td>\n",
       "    </tr>\n",
       "    <tr>\n",
       "      <th>25%</th>\n",
       "      <td>17.000000</td>\n",
       "      <td>9.686375e+04</td>\n",
       "      <td>1.907500e+03</td>\n",
       "      <td>67.000000</td>\n",
       "      <td>286.000000</td>\n",
       "      <td>11.100000</td>\n",
       "    </tr>\n",
       "    <tr>\n",
       "      <th>50%</th>\n",
       "      <td>23.000000</td>\n",
       "      <td>3.086115e+05</td>\n",
       "      <td>8.652500e+03</td>\n",
       "      <td>272.500000</td>\n",
       "      <td>1085.500000</td>\n",
       "      <td>16.595000</td>\n",
       "    </tr>\n",
       "    <tr>\n",
       "      <th>75%</th>\n",
       "      <td>25.000000</td>\n",
       "      <td>9.588758e+05</td>\n",
       "      <td>3.021350e+04</td>\n",
       "      <td>1013.000000</td>\n",
       "      <td>3462.750000</td>\n",
       "      <td>21.100000</td>\n",
       "    </tr>\n",
       "    <tr>\n",
       "      <th>max</th>\n",
       "      <td>43.000000</td>\n",
       "      <td>4.150067e+07</td>\n",
       "      <td>2.010366e+06</td>\n",
       "      <td>318404.000000</td>\n",
       "      <td>736179.000000</td>\n",
       "      <td>30.090000</td>\n",
       "    </tr>\n",
       "  </tbody>\n",
       "</table>\n",
       "</div>"
      ],
      "text/plain": [
       "       category_id         views         likes       dislikes  comment_total  \\\n",
       "count  7992.000000  7.992000e+03  7.992000e+03    7992.000000    7992.000000   \n",
       "mean     20.217718  9.390269e+05  3.449193e+04    1781.625000    4608.489740   \n",
       "std       7.415525  2.148263e+06  9.136160e+04   10822.103125   20252.758016   \n",
       "min       1.000000  0.000000e+00  0.000000e+00       0.000000       0.000000   \n",
       "25%      17.000000  9.686375e+04  1.907500e+03      67.000000     286.000000   \n",
       "50%      23.000000  3.086115e+05  8.652500e+03     272.500000    1085.500000   \n",
       "75%      25.000000  9.588758e+05  3.021350e+04    1013.000000    3462.750000   \n",
       "max      43.000000  4.150067e+07  2.010366e+06  318404.000000  736179.000000   \n",
       "\n",
       "              date  \n",
       "count  7992.000000  \n",
       "mean     16.094249  \n",
       "std       7.677674  \n",
       "min       1.100000  \n",
       "25%      11.100000  \n",
       "50%      16.595000  \n",
       "75%      21.100000  \n",
       "max      30.090000  "
      ]
     },
     "execution_count": 3,
     "metadata": {},
     "output_type": "execute_result"
    }
   ],
   "source": [
    "videos.describe()"
   ]
  },
  {
   "cell_type": "code",
   "execution_count": 4,
   "metadata": {},
   "outputs": [
    {
     "data": {
      "text/plain": [
       "video_id          0\n",
       "title             0\n",
       "channel_title     0\n",
       "category_id       0\n",
       "tags              0\n",
       "views             0\n",
       "likes             0\n",
       "dislikes          0\n",
       "comment_total     0\n",
       "thumbnail_link    0\n",
       "date              0\n",
       "dtype: int64"
      ]
     },
     "execution_count": 4,
     "metadata": {},
     "output_type": "execute_result"
    }
   ],
   "source": [
    "videos.isnull().sum().sort_values()"
   ]
  },
  {
   "cell_type": "markdown",
   "metadata": {},
   "source": [
    "Всички данни са валидни, но някои не дават много информация. Махам ги за сега (video_id, thumbnail_link)"
   ]
  },
  {
   "cell_type": "code",
   "execution_count": 5,
   "metadata": {},
   "outputs": [],
   "source": [
    "del videos['video_id']\n",
    "del videos['thumbnail_link']"
   ]
  },
  {
   "cell_type": "markdown",
   "metadata": {},
   "source": [
    "## Baseline Model\n",
    "\n",
    "Ще искам да натренирам модел, който да предполага колко гледания има дадено видео.\n",
    "Първо ще ползвам само числовите колони."
   ]
  },
  {
   "cell_type": "code",
   "execution_count": 6,
   "metadata": {},
   "outputs": [
    {
     "name": "stdout",
     "output_type": "stream",
     "text": [
      "      category_id   likes  dislikes  comment_total\n",
      "0              24  320053      5931          46245\n",
      "1              28  185853     26679              0\n",
      "2              22  576597     39774         170708\n",
      "3              28   24975      4542          12829\n",
      "4              23   96666       568           6666\n",
      "5               1   34507       544           3040\n",
      "6              23    9985       297           1071\n",
      "...           ...     ...       ...            ...\n",
      "7985           28   18242       797           1540\n",
      "7986           22    6688       383           1610\n",
      "7987           27   14362       390           1575\n",
      "7988           25    1265       760           1873\n",
      "7989           10    7088        68            437\n",
      "7990           24    2148        77              0\n",
      "7991           28    1574        59              0\n",
      "\n",
      "[7992 rows x 4 columns]\n",
      "0       4394029\n",
      "1       7860119\n",
      "2       5845909\n",
      "3       2642103\n",
      "4       1168130\n",
      "5       1311445\n",
      "6        666169\n",
      "         ...   \n",
      "7985     484376\n",
      "7986     164625\n",
      "7987     440393\n",
      "7988      55762\n",
      "7989     142908\n",
      "7990      24532\n",
      "7991     144039\n",
      "Name: views, Length: 7992, dtype: int64\n"
     ]
    }
   ],
   "source": [
    "X = videos[['category_id', 'likes', 'dislikes', 'comment_total']]\n",
    "y = videos['views']\n",
    "\n",
    "print(X)\n",
    "print(y)"
   ]
  },
  {
   "cell_type": "code",
   "execution_count": 7,
   "metadata": {},
   "outputs": [],
   "source": [
    "from sklearn.model_selection import train_test_split\n",
    "\n",
    "X_train, X_test, y_train, y_test = train_test_split(X, y, random_state=0)"
   ]
  },
  {
   "cell_type": "code",
   "execution_count": 8,
   "metadata": {},
   "outputs": [
    {
     "name": "stdout",
     "output_type": "stream",
     "text": [
      "train score: 0.730928079438\n",
      "test score:  0.651118174035\n"
     ]
    }
   ],
   "source": [
    "from sklearn.linear_model import LinearRegression\n",
    "\n",
    "model = LinearRegression().fit(X_train, y_train)\n",
    "print(\"train score:\", model.score(X_train, y_train))\n",
    "print(\"test score: \", model.score(X_test, y_test))"
   ]
  },
  {
   "cell_type": "markdown",
   "metadata": {},
   "source": [
    "Изглежда ок, да пробваме обаче да обработим текстовите колони.."
   ]
  },
  {
   "cell_type": "markdown",
   "metadata": {},
   "source": [
    "# Текстови колони"
   ]
  },
  {
   "cell_type": "markdown",
   "metadata": {},
   "source": [
    "Имаме 3 колони със текст. Да видим какво можем да направим със всяка една от тях."
   ]
  },
  {
   "cell_type": "markdown",
   "metadata": {},
   "source": [
    "## Channel Title"
   ]
  },
  {
   "cell_type": "code",
   "execution_count": 9,
   "metadata": {},
   "outputs": [
    {
     "name": "stdout",
     "output_type": "stream",
     "text": [
      "Vox                  40\n",
      "Jimmy Kimmel Live    40\n",
      "First We Feast       39\n",
      "vlogbrothers         38\n",
      "NFL                  38\n",
      "jacksfilms           38\n",
      "TheEllenShow         38\n",
      "                     ..\n",
      "Sophia Grace          1\n",
      "Hot Dad               1\n",
      "Football Insider      1\n",
      "ZaynVEVO              1\n",
      "BadmintonWorld.tv     1\n",
      "Penny Loggins         1\n",
      "NikkiPhillippi        1\n",
      "Name: channel_title, Length: 1230, dtype: int64\n"
     ]
    }
   ],
   "source": [
    "channel_titles = videos.channel_title\n",
    "print(channel_titles.value_counts())"
   ]
  },
  {
   "cell_type": "markdown",
   "metadata": {},
   "source": [
    "Тук ще си позволя да копирам малко код от лекцията :)"
   ]
  },
  {
   "cell_type": "code",
   "execution_count": 10,
   "metadata": {},
   "outputs": [],
   "source": [
    "from sklearn.base import BaseEstimator, TransformerMixin\n",
    "\n",
    "class ItemSelector(BaseEstimator, TransformerMixin):\n",
    "    def __init__(self, key):\n",
    "        self.key = key\n",
    "\n",
    "    def fit(self, x, y=None):\n",
    "        return self\n",
    "\n",
    "    def transform(self, data_dict):\n",
    "        return data_dict[[self.key]]\n"
   ]
  },
  {
   "cell_type": "code",
   "execution_count": 11,
   "metadata": {},
   "outputs": [],
   "source": [
    "from sklearn.preprocessing import LabelBinarizer\n",
    "\n",
    "class LabelBinarizerPipelineFriendly(LabelBinarizer):\n",
    "    def fit(self, X, y=None):\n",
    "        super().fit(X)\n",
    "\n",
    "    def transform(self, X, y=None):\n",
    "        return super().transform(X)\n",
    "\n",
    "    def fit_transform(self, X, y=None):\n",
    "        return super().fit(X).transform(X)"
   ]
  },
  {
   "cell_type": "code",
   "execution_count": 12,
   "metadata": {},
   "outputs": [
    {
     "data": {
      "text/plain": [
       "(7992, 1230)"
      ]
     },
     "execution_count": 12,
     "metadata": {},
     "output_type": "execute_result"
    }
   ],
   "source": [
    "from sklearn.pipeline import FeatureUnion\n",
    "from sklearn.pipeline import Pipeline\n",
    "\n",
    "channel_title_pipeline = Pipeline([\n",
    "    ('select', ItemSelector('channel_title')),\n",
    "    ('encoder', LabelBinarizerPipelineFriendly()),\n",
    "])\n",
    "\n",
    "channel_title_union = FeatureUnion([\n",
    "    ('channel', channel_title_pipeline)\n",
    "])\n",
    "\n",
    "channel_title_union.fit_transform(videos).shape"
   ]
  },
  {
   "cell_type": "markdown",
   "metadata": {},
   "source": [
    "Ок, преработихме имената на каналите.. Какво още можем да направим??"
   ]
  },
  {
   "cell_type": "markdown",
   "metadata": {},
   "source": [
    "## Tags"
   ]
  },
  {
   "cell_type": "code",
   "execution_count": 13,
   "metadata": {},
   "outputs": [
    {
     "name": "stdout",
     "output_type": "stream",
     "text": [
      "[none]                                                                                                                                                                                                                                                                                                                                                                                                                                                                                 491\n",
      "James Corden|The Late Late Show|Colbert|late night|late night show|Stephen Colbert|Comedy|monologue|comedian|impressions|celebrities|carpool|karaoke|CBS|Late Late Show|Corden|joke|jokes|funny|funny video|funny videos|humor|celebrity|celeb|hollywood|famous                                                                                                                                                                                                                         37\n",
      "The Late Show|Stephen Colbert|Colbert|Late Show|celebrities|late night|talk show|skits|bit|monologue|The Late Late Show|Late Late Show|letterman|david letterman|comedian|impressions|CBS|joke|jokes|funny|funny video|funny videos|humor|celebrity|celeb|hollywood|famous|James Corden|Corden|Comedy                                                                                                                                                                                   30\n",
      "cupcakes|how to make vanilla cupcakes|over the top recipes|easy cupcake recipes|vanilla cupcakes|chocolate cupcakes|french macarons|how to make macarons|the scran line|the scranline|nick makrides|pastry design|how to pipe cupcakes                                                                                                                                                                                                                                                  25\n",
      "America's Got Talent 2017|america's got talent|america's got talent fails|america's got talent best|america's got talent auditions|AGT|AGT 2017 auditions|AGT best auditions|NBC|TV|TV Shows|Highlights|Previews|Simon Cowell|Howie Mandel|Tyra Banks|Heidi Klum|Mel B|season 12|America's|Got|Talent|funny|judge|vote|clips|talent|entertainment|competition|biggest talent show|talent show                                                                                           13\n",
      "physics|minutephysics|science                                                                                                                                                                                                                                                                                                                                                                                                                                                           11\n",
      "upchurch the redneck|country|funny|raise hell and eat cornbread|rhec|merle haggard|george strait|willie nelson|kenny chesney                                                                                                                                                                                                                                                                                                                                                            11\n",
      "                                                                                                                                                                                                                                                                                                                                                                                                                                                                                      ... \n",
      "saturday night live|snl|snl season 43|kumail nanjiani|snl host kumail nanjiani|kumail nanjiani snl|pink|snl musical guest pink|pink snl|aidy bryant|the big sick|so what|studio|host|promo|rachel maddow|page|comedian|actor|writer|funny|hilarious|comedy|lego|ninjago movie|silicon valley|what about us|p!nk|green|favorite color|inspire|inspiration                                                                                                                                 1\n",
      "lorraine|lorraine kelly|lorraine itv|lorraine interview|interview on lorraine|chat show|talk show|kate winslet|the mountain between us|titanic|leonardo dicaprio|oscar|bathroom|emma thompson                                                                                                                                                                                                                                                                                            1\n",
      "anthony padilla|smosh|autumn|fall|october|season|halloween|costumes|diy|men|last minute                                                                                                                                                                                                                                                                                                                                                                                                  1\n",
      "space suit|space|nasa|moon|mars|the martian|apollo 11|astronaut|cosmonaut|balloon|high altitude|altitude|altitude records|diy space suit|cameron smith|homemade space suit|spacesuit|space travel|anthropology|homemade|home made|diy|wired|tech|wired.com|technology                                                                                                                                                                                                                    1\n",
      "soulpancake|soulpancake channel|soul pancake|rainn wilson|kid president|kid president pep talk|clouds by zach sobiech|how to|tutorial|review|workout|inspirational|pda|public displays of affection|royal ride|uber|lyft|taxi|ben aaron|nbc|street stunt|egyptian|carry me|buff guys|gym bros|hot guys                                                                                                                                                                                   1\n",
      "the school of life|school|relationships|mood|alain de botton|philosophy|lecture|wisdom|talk|self|improvement|big questions|love|wellness|mindfullness|psychology|botton|how we lie|ourselves|others|lieing|over happiness|addiction|denigration|censoriousness|lie|why we lie|lies|lies we tell ourselves|como mentimos|wie wir lügen|comment nous mentons|我们怎么说谎|हम कैसे झूठ बोलते हैं|como nós mentimos|real|honesty|tedx|self deception|lie to yourself|school of life|झूठ बोलना      1\n",
      "home office|home office makeover|liza koshy office|liza koshy tour|liza koshy home|liza koshy collab|office design|office makeover|built in shelves|DIY built in shelves|DIY wire art|DIY wall art|DIY home decor|DIY interior design|home decor|interior design|bohemian design|bohemian decor|bohemian office|mr. kate|mr kate|mrkate|mister kate|kate albrecht|joey zehr                                                                                                              1\n",
      "Name: tags, Length: 2204, dtype: int64\n"
     ]
    }
   ],
   "source": [
    "tags = videos.tags\n",
    "print(tags.value_counts())"
   ]
  },
  {
   "cell_type": "markdown",
   "metadata": {},
   "source": [
    "Тук е малко по-интересно.\n",
    "Имаме 2204 различни множества от тагове, като някои видеа (на един и същи канал най-вероятно) имат едни и същи тагове.\n",
    "За сега мисля просто да ги labelBinarize-на (на български) и да видя како ще стане\n",
    "Други идеи за по-късно евентуално:\n",
    "- Да сплитна всички по '|' и да енкодна всички (може би ще станат прекалено много фийчъри)\n",
    "- Горното, но да групирам сходните в едно."
   ]
  },
  {
   "cell_type": "code",
   "execution_count": 14,
   "metadata": {},
   "outputs": [
    {
     "data": {
      "text/plain": [
       "(7992, 2204)"
      ]
     },
     "execution_count": 14,
     "metadata": {},
     "output_type": "execute_result"
    }
   ],
   "source": [
    "tags_pipeline = Pipeline([\n",
    "    ('select', ItemSelector('tags')),\n",
    "    ('encoder', LabelBinarizerPipelineFriendly()),\n",
    "])\n",
    "\n",
    "tags_union = FeatureUnion([\n",
    "    ('tags', tags_pipeline)\n",
    "])\n",
    "\n",
    "tags_union.fit_transform(videos).shape"
   ]
  },
  {
   "cell_type": "markdown",
   "metadata": {},
   "source": [
    "## Title"
   ]
  },
  {
   "cell_type": "code",
   "execution_count": 15,
   "metadata": {},
   "outputs": [
    {
     "name": "stdout",
     "output_type": "stream",
     "text": [
      "Tourist terrified by new glass walkway that cracks under weight      8\n",
      "IT PENNYWISE GLAM HALLOWEEN MAKEUP TUTORIAL                          8\n",
      "Kellywise - SNL                                                      8\n",
      "Eminem Rips Donald Trump In BET Hip Hop Awards Freestyle Cypher      8\n",
      "Hello, world. Meet our baby girl: Alexis Olympia Ohanian, Jr.        7\n",
      "Harvey Weinstein, Donald Trump and Systemic Sexism: A Closer Look    7\n",
      "TOMB RAIDER - Official Trailer #1                                    7\n",
      "                                                                    ..\n",
      "Spider Face                                                          1\n",
      "EXTREME SOUR CANDY CHALLENGE *LIVE*                                  1\n",
      "MACKLEMORE FEAT OTIENO TERRY - LEVITATE                              1\n",
      "Björk: The Gate                                                      1\n",
      "Bonnie McKee - Thorns                                                1\n",
      "SMOKEY MAKEUP LOOK feat CLAUDIA SCHIFFER                             1\n",
      "DIY TAYLOR SWIFT #LWYMMD COSTUME // Grace Helbig                     1\n",
      "Name: title, Length: 2398, dtype: int64\n"
     ]
    }
   ],
   "source": [
    "titles = videos.title\n",
    "print(titles.value_counts())"
   ]
  },
  {
   "cell_type": "markdown",
   "metadata": {},
   "source": [
    "Може би не е добра идея да енкодвам имената на видеата по същия начин, но нека го изпробвам"
   ]
  },
  {
   "cell_type": "code",
   "execution_count": 16,
   "metadata": {},
   "outputs": [
    {
     "data": {
      "text/plain": [
       "(7992, 2398)"
      ]
     },
     "execution_count": 16,
     "metadata": {},
     "output_type": "execute_result"
    }
   ],
   "source": [
    "titles_pipeline = Pipeline([\n",
    "    ('select', ItemSelector('title')),\n",
    "    ('encoder', LabelBinarizerPipelineFriendly()),\n",
    "])\n",
    "\n",
    "titles_union = FeatureUnion([\n",
    "    ('titles', titles_pipeline)\n",
    "])\n",
    "\n",
    "titles_union.fit_transform(videos).shape"
   ]
  },
  {
   "cell_type": "markdown",
   "metadata": {},
   "source": [
    "# Да претренираме с обработените данни"
   ]
  },
  {
   "cell_type": "code",
   "execution_count": 23,
   "metadata": {},
   "outputs": [
    {
     "name": "stdout",
     "output_type": "stream",
     "text": [
      "train score: 0.933997766117\n",
      "test score:  -1.08769824296e+21\n"
     ]
    }
   ],
   "source": [
    "from sklearn.model_selection import cross_val_score\n",
    "from sklearn.preprocessing import StandardScaler\n",
    "from sklearn.svm import SVC\n",
    "\n",
    "feature_union = FeatureUnion([\n",
    "    ('channel_title', channel_title_pipeline),\n",
    "#     ('tags', tags_pipeline), \n",
    "#     ('title', titles_pipeline),\n",
    "    ('likes', Pipeline([\n",
    "        ('select', ItemSelector('likes')),\n",
    "        ('scaler', StandardScaler()),\n",
    "    ])),\n",
    "    ('dislikes', Pipeline([\n",
    "        ('select', ItemSelector('dislikes')),\n",
    "        ('scaler', StandardScaler()),\n",
    "    ])),\n",
    "    ('comments', Pipeline([\n",
    "        ('select', ItemSelector('comment_total')),\n",
    "        ('scaler', StandardScaler()),\n",
    "    ]))\n",
    "])\n",
    "\n",
    "model = Pipeline([\n",
    "    ('union', feature_union),\n",
    "    ('regression', LinearRegression())\n",
    "])\n",
    "\n",
    "data = videos[['channel_title', 'tags', 'title', 'likes', 'dislikes', 'comment_total']]\n",
    "\n",
    "X_train, X_test, y_train, y_test = train_test_split(data, videos.views, random_state=0)\n",
    "\n",
    "model.fit(X_train, y_train)\n",
    "\n",
    "print(\"train score:\", model.score(X_train, y_train))\n",
    "print(\"test score: \", model.score(X_test, y_test))"
   ]
  },
  {
   "cell_type": "markdown",
   "metadata": {},
   "source": [
    "# Epic Fail\n",
    "## май овърфитва, не съм сигурен..\n",
    "### като ползвам и таговете и заглавията става още по-забавно"
   ]
  },
  {
   "cell_type": "code",
   "execution_count": null,
   "metadata": {},
   "outputs": [],
   "source": []
  }
 ],
 "metadata": {
  "kernelspec": {
   "display_name": "Python 3",
   "language": "python",
   "name": "python3"
  },
  "language_info": {
   "codemirror_mode": {
    "name": "ipython",
    "version": 3
   },
   "file_extension": ".py",
   "mimetype": "text/x-python",
   "name": "python",
   "nbconvert_exporter": "python",
   "pygments_lexer": "ipython3",
   "version": "3.6.2"
  }
 },
 "nbformat": 4,
 "nbformat_minor": 2
}
